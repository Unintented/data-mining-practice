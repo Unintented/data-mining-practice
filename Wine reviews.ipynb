{
 "cells": [
  {
   "cell_type": "code",
   "execution_count": 1,
   "metadata": {
    "ExecuteTime": {
     "end_time": "2021-04-02T08:08:28.845054Z",
     "start_time": "2021-04-02T08:08:27.813716Z"
    }
   },
   "outputs": [],
   "source": [
    "%matplotlib inline\n",
    "import matplotlib.pyplot as plt\n",
    "import matplotlib\n",
    "import numpy as np\n",
    "import pandas as pd\n",
    "from collections import Counter\n",
    "import warnings\n",
    "warnings.filterwarnings('ignore')"
   ]
  },
  {
   "cell_type": "markdown",
   "metadata": {},
   "source": [
    "### Read data"
   ]
  },
  {
   "cell_type": "code",
   "execution_count": 2,
   "metadata": {
    "ExecuteTime": {
     "end_time": "2021-04-02T08:08:33.056075Z",
     "start_time": "2021-04-02T08:08:31.518477Z"
    }
   },
   "outputs": [
    {
     "data": {
      "text/plain": [
       "(280901, 13)"
      ]
     },
     "execution_count": 2,
     "metadata": {},
     "output_type": "execute_result"
    }
   ],
   "source": [
    "data_1 = pd.read_csv(\"./dataset/WineReviews/winemag-data-130k-v2.csv\", index_col=0)\n",
    "data_2 = pd.read_csv(\"./dataset/WineReviews/winemag-data_first150k.csv\", index_col=0)\n",
    "data = pd.concat([data_1, data_2], axis=0)\n",
    "data.shape"
   ]
  },
  {
   "cell_type": "markdown",
   "metadata": {},
   "source": [
    "### Data review\n",
    "- We can find that 'country','designation','province','region_1','region_2','taster_name','taster_twitter_handle','variety' and 'winery' are nominal attibutes. There are no sequence relation between attibutes.\n",
    "\n",
    "- 'points' and 'price' belong to numeric attribute."
   ]
  },
  {
   "cell_type": "code",
   "execution_count": 3,
   "metadata": {
    "ExecuteTime": {
     "end_time": "2021-04-02T08:08:35.326246Z",
     "start_time": "2021-04-02T08:08:35.308812Z"
    }
   },
   "outputs": [
    {
     "data": {
      "text/html": [
       "<div>\n",
       "<style scoped>\n",
       "    .dataframe tbody tr th:only-of-type {\n",
       "        vertical-align: middle;\n",
       "    }\n",
       "\n",
       "    .dataframe tbody tr th {\n",
       "        vertical-align: top;\n",
       "    }\n",
       "\n",
       "    .dataframe thead th {\n",
       "        text-align: right;\n",
       "    }\n",
       "</style>\n",
       "<table border=\"1\" class=\"dataframe\">\n",
       "  <thead>\n",
       "    <tr style=\"text-align: right;\">\n",
       "      <th></th>\n",
       "      <th>country</th>\n",
       "      <th>description</th>\n",
       "      <th>designation</th>\n",
       "      <th>points</th>\n",
       "      <th>price</th>\n",
       "      <th>province</th>\n",
       "      <th>region_1</th>\n",
       "      <th>region_2</th>\n",
       "      <th>taster_name</th>\n",
       "      <th>taster_twitter_handle</th>\n",
       "      <th>title</th>\n",
       "      <th>variety</th>\n",
       "      <th>winery</th>\n",
       "    </tr>\n",
       "  </thead>\n",
       "  <tbody>\n",
       "    <tr>\n",
       "      <td>0</td>\n",
       "      <td>Italy</td>\n",
       "      <td>Aromas include tropical fruit, broom, brimston...</td>\n",
       "      <td>Vulkà Bianco</td>\n",
       "      <td>87</td>\n",
       "      <td>NaN</td>\n",
       "      <td>Sicily &amp; Sardinia</td>\n",
       "      <td>Etna</td>\n",
       "      <td>NaN</td>\n",
       "      <td>Kerin O’Keefe</td>\n",
       "      <td>@kerinokeefe</td>\n",
       "      <td>Nicosia 2013 Vulkà Bianco  (Etna)</td>\n",
       "      <td>White Blend</td>\n",
       "      <td>Nicosia</td>\n",
       "    </tr>\n",
       "    <tr>\n",
       "      <td>1</td>\n",
       "      <td>Portugal</td>\n",
       "      <td>This is ripe and fruity, a wine that is smooth...</td>\n",
       "      <td>Avidagos</td>\n",
       "      <td>87</td>\n",
       "      <td>15.0</td>\n",
       "      <td>Douro</td>\n",
       "      <td>NaN</td>\n",
       "      <td>NaN</td>\n",
       "      <td>Roger Voss</td>\n",
       "      <td>@vossroger</td>\n",
       "      <td>Quinta dos Avidagos 2011 Avidagos Red (Douro)</td>\n",
       "      <td>Portuguese Red</td>\n",
       "      <td>Quinta dos Avidagos</td>\n",
       "    </tr>\n",
       "    <tr>\n",
       "      <td>2</td>\n",
       "      <td>US</td>\n",
       "      <td>Tart and snappy, the flavors of lime flesh and...</td>\n",
       "      <td>NaN</td>\n",
       "      <td>87</td>\n",
       "      <td>14.0</td>\n",
       "      <td>Oregon</td>\n",
       "      <td>Willamette Valley</td>\n",
       "      <td>Willamette Valley</td>\n",
       "      <td>Paul Gregutt</td>\n",
       "      <td>@paulgwine</td>\n",
       "      <td>Rainstorm 2013 Pinot Gris (Willamette Valley)</td>\n",
       "      <td>Pinot Gris</td>\n",
       "      <td>Rainstorm</td>\n",
       "    </tr>\n",
       "    <tr>\n",
       "      <td>3</td>\n",
       "      <td>US</td>\n",
       "      <td>Pineapple rind, lemon pith and orange blossom ...</td>\n",
       "      <td>Reserve Late Harvest</td>\n",
       "      <td>87</td>\n",
       "      <td>13.0</td>\n",
       "      <td>Michigan</td>\n",
       "      <td>Lake Michigan Shore</td>\n",
       "      <td>NaN</td>\n",
       "      <td>Alexander Peartree</td>\n",
       "      <td>NaN</td>\n",
       "      <td>St. Julian 2013 Reserve Late Harvest Riesling ...</td>\n",
       "      <td>Riesling</td>\n",
       "      <td>St. Julian</td>\n",
       "    </tr>\n",
       "    <tr>\n",
       "      <td>4</td>\n",
       "      <td>US</td>\n",
       "      <td>Much like the regular bottling from 2012, this...</td>\n",
       "      <td>Vintner's Reserve Wild Child Block</td>\n",
       "      <td>87</td>\n",
       "      <td>65.0</td>\n",
       "      <td>Oregon</td>\n",
       "      <td>Willamette Valley</td>\n",
       "      <td>Willamette Valley</td>\n",
       "      <td>Paul Gregutt</td>\n",
       "      <td>@paulgwine</td>\n",
       "      <td>Sweet Cheeks 2012 Vintner's Reserve Wild Child...</td>\n",
       "      <td>Pinot Noir</td>\n",
       "      <td>Sweet Cheeks</td>\n",
       "    </tr>\n",
       "  </tbody>\n",
       "</table>\n",
       "</div>"
      ],
      "text/plain": [
       "    country                                        description  \\\n",
       "0     Italy  Aromas include tropical fruit, broom, brimston...   \n",
       "1  Portugal  This is ripe and fruity, a wine that is smooth...   \n",
       "2        US  Tart and snappy, the flavors of lime flesh and...   \n",
       "3        US  Pineapple rind, lemon pith and orange blossom ...   \n",
       "4        US  Much like the regular bottling from 2012, this...   \n",
       "\n",
       "                          designation  points  price           province  \\\n",
       "0                        Vulkà Bianco      87    NaN  Sicily & Sardinia   \n",
       "1                            Avidagos      87   15.0              Douro   \n",
       "2                                 NaN      87   14.0             Oregon   \n",
       "3                Reserve Late Harvest      87   13.0           Michigan   \n",
       "4  Vintner's Reserve Wild Child Block      87   65.0             Oregon   \n",
       "\n",
       "              region_1           region_2         taster_name  \\\n",
       "0                 Etna                NaN       Kerin O’Keefe   \n",
       "1                  NaN                NaN          Roger Voss   \n",
       "2    Willamette Valley  Willamette Valley        Paul Gregutt   \n",
       "3  Lake Michigan Shore                NaN  Alexander Peartree   \n",
       "4    Willamette Valley  Willamette Valley        Paul Gregutt   \n",
       "\n",
       "  taster_twitter_handle                                              title  \\\n",
       "0          @kerinokeefe                  Nicosia 2013 Vulkà Bianco  (Etna)   \n",
       "1            @vossroger      Quinta dos Avidagos 2011 Avidagos Red (Douro)   \n",
       "2           @paulgwine       Rainstorm 2013 Pinot Gris (Willamette Valley)   \n",
       "3                   NaN  St. Julian 2013 Reserve Late Harvest Riesling ...   \n",
       "4           @paulgwine   Sweet Cheeks 2012 Vintner's Reserve Wild Child...   \n",
       "\n",
       "          variety               winery  \n",
       "0     White Blend              Nicosia  \n",
       "1  Portuguese Red  Quinta dos Avidagos  \n",
       "2      Pinot Gris            Rainstorm  \n",
       "3        Riesling           St. Julian  \n",
       "4      Pinot Noir         Sweet Cheeks  "
      ]
     },
     "execution_count": 3,
     "metadata": {},
     "output_type": "execute_result"
    }
   ],
   "source": [
    "data.head(5)"
   ]
  },
  {
   "cell_type": "code",
   "execution_count": 4,
   "metadata": {
    "ExecuteTime": {
     "end_time": "2021-04-02T08:08:36.888319Z",
     "start_time": "2021-04-02T08:08:36.665722Z"
    }
   },
   "outputs": [
    {
     "data": {
      "text/html": [
       "<div>\n",
       "<style scoped>\n",
       "    .dataframe tbody tr th:only-of-type {\n",
       "        vertical-align: middle;\n",
       "    }\n",
       "\n",
       "    .dataframe tbody tr th {\n",
       "        vertical-align: top;\n",
       "    }\n",
       "\n",
       "    .dataframe thead th {\n",
       "        text-align: right;\n",
       "    }\n",
       "</style>\n",
       "<table border=\"1\" class=\"dataframe\">\n",
       "  <thead>\n",
       "    <tr style=\"text-align: right;\">\n",
       "      <th></th>\n",
       "      <th>points</th>\n",
       "      <th>price</th>\n",
       "    </tr>\n",
       "  </thead>\n",
       "  <tbody>\n",
       "    <tr>\n",
       "      <td>count</td>\n",
       "      <td>280901.000000</td>\n",
       "      <td>258210.000000</td>\n",
       "    </tr>\n",
       "    <tr>\n",
       "      <td>mean</td>\n",
       "      <td>88.146934</td>\n",
       "      <td>34.177162</td>\n",
       "    </tr>\n",
       "    <tr>\n",
       "      <td>std</td>\n",
       "      <td>3.151528</td>\n",
       "      <td>38.611708</td>\n",
       "    </tr>\n",
       "    <tr>\n",
       "      <td>min</td>\n",
       "      <td>80.000000</td>\n",
       "      <td>4.000000</td>\n",
       "    </tr>\n",
       "    <tr>\n",
       "      <td>25%</td>\n",
       "      <td>86.000000</td>\n",
       "      <td>16.000000</td>\n",
       "    </tr>\n",
       "    <tr>\n",
       "      <td>50%</td>\n",
       "      <td>88.000000</td>\n",
       "      <td>25.000000</td>\n",
       "    </tr>\n",
       "    <tr>\n",
       "      <td>75%</td>\n",
       "      <td>90.000000</td>\n",
       "      <td>40.000000</td>\n",
       "    </tr>\n",
       "    <tr>\n",
       "      <td>max</td>\n",
       "      <td>100.000000</td>\n",
       "      <td>3300.000000</td>\n",
       "    </tr>\n",
       "  </tbody>\n",
       "</table>\n",
       "</div>"
      ],
      "text/plain": [
       "              points          price\n",
       "count  280901.000000  258210.000000\n",
       "mean       88.146934      34.177162\n",
       "std         3.151528      38.611708\n",
       "min        80.000000       4.000000\n",
       "25%        86.000000      16.000000\n",
       "50%        88.000000      25.000000\n",
       "75%        90.000000      40.000000\n",
       "max       100.000000    3300.000000"
      ]
     },
     "execution_count": 4,
     "metadata": {},
     "output_type": "execute_result"
    }
   ],
   "source": [
    "data.describe()"
   ]
  },
  {
   "cell_type": "markdown",
   "metadata": {},
   "source": [
    "#### First of all, I will present the frequency of each category in each nominal attribute."
   ]
  },
  {
   "cell_type": "code",
   "execution_count": 5,
   "metadata": {
    "ExecuteTime": {
     "end_time": "2021-04-02T08:08:41.365274Z",
     "start_time": "2021-04-02T08:08:41.317548Z"
    },
    "scrolled": true
   },
   "outputs": [
    {
     "data": {
      "text/plain": [
       "Counter({'Italy': 43018,\n",
       "         'Portugal': 11013,\n",
       "         'US': 116901,\n",
       "         'Spain': 14913,\n",
       "         'France': 43191,\n",
       "         'Germany': 4617,\n",
       "         'Argentina': 9431,\n",
       "         'Chile': 10288,\n",
       "         'Australia': 7286,\n",
       "         'Austria': 6402,\n",
       "         'South Africa': 3659,\n",
       "         'New Zealand': 4739,\n",
       "         'Israel': 1135,\n",
       "         'Hungary': 377,\n",
       "         'Greece': 1350,\n",
       "         'Romania': 259,\n",
       "         'Mexico': 133,\n",
       "         'Canada': 453,\n",
       "         nan: 68,\n",
       "         'Turkey': 142,\n",
       "         'Czech Republic': 18,\n",
       "         'Slovenia': 181,\n",
       "         'Luxembourg': 15,\n",
       "         'Croatia': 162,\n",
       "         'Georgia': 129,\n",
       "         'Uruguay': 201,\n",
       "         'England': 83,\n",
       "         'Lebanon': 72,\n",
       "         'Serbia': 26,\n",
       "         'Brazil': 77,\n",
       "         'Moldova': 130,\n",
       "         'Morocco': 40,\n",
       "         'Peru': 16,\n",
       "         'India': 17,\n",
       "         'Bulgaria': 218,\n",
       "         'Cyprus': 42,\n",
       "         'Armenia': 2,\n",
       "         'Switzerland': 11,\n",
       "         'Bosnia and Herzegovina': 6,\n",
       "         'Ukraine': 19,\n",
       "         'Slovakia': 4,\n",
       "         'Macedonia': 28,\n",
       "         'China': 4,\n",
       "         'Egypt': 4,\n",
       "         'Albania': 2,\n",
       "         'Lithuania': 8,\n",
       "         'Japan': 2,\n",
       "         'South Korea': 4,\n",
       "         'Montenegro': 2,\n",
       "         'Tunisia': 2,\n",
       "         'US-France': 1})"
      ]
     },
     "execution_count": 5,
     "metadata": {},
     "output_type": "execute_result"
    }
   ],
   "source": [
    "Counter(data[\"country\"])"
   ]
  },
  {
   "cell_type": "markdown",
   "metadata": {},
   "source": [
    "### !!! In order to simplify the result, the following similar results are not implemented."
   ]
  },
  {
   "cell_type": "code",
   "execution_count": null,
   "metadata": {
    "ExecuteTime": {
     "end_time": "2021-04-02T03:51:28.522716Z",
     "start_time": "2021-04-02T03:51:28.453200Z"
    }
   },
   "outputs": [],
   "source": [
    "Counter(data[\"designation\"])"
   ]
  },
  {
   "cell_type": "code",
   "execution_count": null,
   "metadata": {
    "ExecuteTime": {
     "end_time": "2021-04-02T03:51:28.576769Z",
     "start_time": "2021-04-02T03:51:28.524528Z"
    }
   },
   "outputs": [],
   "source": [
    "Counter(data[\"province\"])"
   ]
  },
  {
   "cell_type": "code",
   "execution_count": null,
   "metadata": {
    "ExecuteTime": {
     "end_time": "2021-04-02T03:51:28.635568Z",
     "start_time": "2021-04-02T03:51:28.580359Z"
    }
   },
   "outputs": [],
   "source": [
    "Counter(data[\"region_1\"])"
   ]
  },
  {
   "cell_type": "code",
   "execution_count": null,
   "metadata": {
    "ExecuteTime": {
     "end_time": "2021-04-02T03:51:28.675893Z",
     "start_time": "2021-04-02T03:51:28.638206Z"
    }
   },
   "outputs": [],
   "source": [
    "Counter(data[\"region_2\"])"
   ]
  },
  {
   "cell_type": "code",
   "execution_count": null,
   "metadata": {
    "ExecuteTime": {
     "end_time": "2021-04-02T03:51:28.711684Z",
     "start_time": "2021-04-02T03:51:28.677344Z"
    }
   },
   "outputs": [],
   "source": [
    "Counter(data[\"taster_name\"])"
   ]
  },
  {
   "cell_type": "code",
   "execution_count": null,
   "metadata": {
    "ExecuteTime": {
     "end_time": "2021-04-02T03:51:28.752816Z",
     "start_time": "2021-04-02T03:51:28.713429Z"
    }
   },
   "outputs": [],
   "source": [
    "Counter(data[\"taster_twitter_handle\"])"
   ]
  },
  {
   "cell_type": "code",
   "execution_count": null,
   "metadata": {
    "ExecuteTime": {
     "end_time": "2021-04-02T03:51:28.813580Z",
     "start_time": "2021-04-02T03:51:28.754547Z"
    }
   },
   "outputs": [],
   "source": [
    "Counter(data[\"variety\"])"
   ]
  },
  {
   "cell_type": "code",
   "execution_count": null,
   "metadata": {
    "ExecuteTime": {
     "end_time": "2021-04-02T03:51:28.884812Z",
     "start_time": "2021-04-02T03:51:28.815126Z"
    }
   },
   "outputs": [],
   "source": [
    "Counter(data[\"winery\"])"
   ]
  },
  {
   "cell_type": "markdown",
   "metadata": {},
   "source": [
    "#### For numeric attributes, five-number summary and the count of null value will be presented.\n",
    "\n",
    "> points:  Minimum:80   Q1:86   Median:88   Q3:90   Maximum:100\n",
    "\n",
    "> price:  Minimum:4   Q1:16   Median:25   Q3:40   Maximum:3300"
   ]
  },
  {
   "cell_type": "code",
   "execution_count": 6,
   "metadata": {
    "ExecuteTime": {
     "end_time": "2021-04-02T08:08:49.407370Z",
     "start_time": "2021-04-02T08:08:49.377498Z"
    }
   },
   "outputs": [
    {
     "data": {
      "text/html": [
       "<div>\n",
       "<style scoped>\n",
       "    .dataframe tbody tr th:only-of-type {\n",
       "        vertical-align: middle;\n",
       "    }\n",
       "\n",
       "    .dataframe tbody tr th {\n",
       "        vertical-align: top;\n",
       "    }\n",
       "\n",
       "    .dataframe thead th {\n",
       "        text-align: right;\n",
       "    }\n",
       "</style>\n",
       "<table border=\"1\" class=\"dataframe\">\n",
       "  <thead>\n",
       "    <tr style=\"text-align: right;\">\n",
       "      <th></th>\n",
       "      <th>points</th>\n",
       "      <th>price</th>\n",
       "    </tr>\n",
       "  </thead>\n",
       "  <tbody>\n",
       "    <tr>\n",
       "      <td>count</td>\n",
       "      <td>280901.000000</td>\n",
       "      <td>258210.000000</td>\n",
       "    </tr>\n",
       "    <tr>\n",
       "      <td>mean</td>\n",
       "      <td>88.146934</td>\n",
       "      <td>34.177162</td>\n",
       "    </tr>\n",
       "    <tr>\n",
       "      <td>std</td>\n",
       "      <td>3.151528</td>\n",
       "      <td>38.611708</td>\n",
       "    </tr>\n",
       "    <tr>\n",
       "      <td>min</td>\n",
       "      <td>80.000000</td>\n",
       "      <td>4.000000</td>\n",
       "    </tr>\n",
       "    <tr>\n",
       "      <td>25%</td>\n",
       "      <td>86.000000</td>\n",
       "      <td>16.000000</td>\n",
       "    </tr>\n",
       "    <tr>\n",
       "      <td>50%</td>\n",
       "      <td>88.000000</td>\n",
       "      <td>25.000000</td>\n",
       "    </tr>\n",
       "    <tr>\n",
       "      <td>75%</td>\n",
       "      <td>90.000000</td>\n",
       "      <td>40.000000</td>\n",
       "    </tr>\n",
       "    <tr>\n",
       "      <td>max</td>\n",
       "      <td>100.000000</td>\n",
       "      <td>3300.000000</td>\n",
       "    </tr>\n",
       "  </tbody>\n",
       "</table>\n",
       "</div>"
      ],
      "text/plain": [
       "              points          price\n",
       "count  280901.000000  258210.000000\n",
       "mean       88.146934      34.177162\n",
       "std         3.151528      38.611708\n",
       "min        80.000000       4.000000\n",
       "25%        86.000000      16.000000\n",
       "50%        88.000000      25.000000\n",
       "75%        90.000000      40.000000\n",
       "max       100.000000    3300.000000"
      ]
     },
     "execution_count": 6,
     "metadata": {},
     "output_type": "execute_result"
    }
   ],
   "source": [
    "data.describe()"
   ]
  },
  {
   "cell_type": "markdown",
   "metadata": {
    "ExecuteTime": {
     "end_time": "2021-04-01T08:33:02.832419Z",
     "start_time": "2021-04-01T08:33:02.828936Z"
    }
   },
   "source": [
    "> The count of null value in attribute 'points' is 0.\n",
    "\n",
    "> The count of null value in attribute 'price' is 22691."
   ]
  },
  {
   "cell_type": "code",
   "execution_count": 7,
   "metadata": {
    "ExecuteTime": {
     "end_time": "2021-04-02T08:08:52.835460Z",
     "start_time": "2021-04-02T08:08:52.824754Z"
    }
   },
   "outputs": [
    {
     "data": {
      "text/plain": [
       "points        0\n",
       "price     22691\n",
       "dtype: int64"
      ]
     },
     "execution_count": 7,
     "metadata": {},
     "output_type": "execute_result"
    }
   ],
   "source": [
    "data[[\"points\", \"price\"]].isnull().sum()"
   ]
  },
  {
   "cell_type": "markdown",
   "metadata": {},
   "source": [
    "#### The data distribution of attribute 'points' basically conforms to the normal distribution."
   ]
  },
  {
   "cell_type": "code",
   "execution_count": 8,
   "metadata": {
    "ExecuteTime": {
     "end_time": "2021-04-02T08:08:54.934158Z",
     "start_time": "2021-04-02T08:08:54.433805Z"
    }
   },
   "outputs": [
    {
     "data": {
      "text/plain": [
       "Text(0, 0.5, 'Frequency')"
      ]
     },
     "execution_count": 8,
     "metadata": {},
     "output_type": "execute_result"
    },
    {
     "data": {
      "image/png": "[encoded data removed]",
      "text/plain": [
       "<Figure size 1800x1200 with 1 Axes>"
      ]
     },
     "metadata": {
      "needs_background": "light"
     },
     "output_type": "display_data"
    }
   ],
   "source": [
    "plt.figure(dpi=300)\n",
    "plt.hist(x=data[\"points\"], bins=\"auto\")\n",
    "plt.xlabel(\"points\")\n",
    "plt.ylabel(\"Frequency\")"
   ]
  },
  {
   "cell_type": "markdown",
   "metadata": {},
   "source": [
    "#### The data are mainly distributed between 0 and 135."
   ]
  },
  {
   "cell_type": "code",
   "execution_count": 9,
   "metadata": {
    "ExecuteTime": {
     "end_time": "2021-04-02T08:09:05.786318Z",
     "start_time": "2021-04-02T08:08:58.411870Z"
    }
   },
   "outputs": [
    {
     "data": {
      "text/plain": [
       "(0, 10000)"
      ]
     },
     "execution_count": 9,
     "metadata": {},
     "output_type": "execute_result"
    },
    {
     "data": {
      "image/png": "[encoded data removed]",
      "text/plain": [
       "<Figure size 1800x1200 with 1 Axes>"
      ]
     },
     "metadata": {
      "needs_background": "light"
     },
     "output_type": "display_data"
    }
   ],
   "source": [
    "plt.figure(dpi=300)\n",
    "plt.hist(x=data[\"price\"], bins=\"auto\")\n",
    "plt.xlabel(\"price\")\n",
    "plt.ylabel(\"Frequency\")\n",
    "plt.ylim(0, 10000)"
   ]
  },
  {
   "cell_type": "markdown",
   "metadata": {},
   "source": [
    "#### Boxplot for numeric attributes.\n",
    "\n",
    "> For attribute 'points', IQR equals to 6. It's Q3 is 90, meaning that all the samples which points is higher than 96 will be regarded as outlier."
   ]
  },
  {
   "cell_type": "code",
   "execution_count": 10,
   "metadata": {
    "ExecuteTime": {
     "end_time": "2021-04-02T08:09:10.890792Z",
     "start_time": "2021-04-02T08:09:10.617457Z"
    }
   },
   "outputs": [
    {
     "data": {
      "text/plain": [
       "{'whiskers': [<matplotlib.lines.Line2D at 0x7fb8be07dd50>,\n",
       "  <matplotlib.lines.Line2D at 0x7fb8bdda4850>],\n",
       " 'caps': [<matplotlib.lines.Line2D at 0x7fb8be07d210>,\n",
       "  <matplotlib.lines.Line2D at 0x7fb8be07d190>],\n",
       " 'boxes': [<matplotlib.patches.PathPatch at 0x7fb8bdd82610>],\n",
       " 'medians': [<matplotlib.lines.Line2D at 0x7fb8be0437d0>],\n",
       " 'fliers': [<matplotlib.lines.Line2D at 0x7fb8be043290>],\n",
       " 'means': []}"
      ]
     },
     "execution_count": 10,
     "metadata": {},
     "output_type": "execute_result"
    },
    {
     "data": {
      "image/png": "[encoded data removed]",
      "text/plain": [
       "<Figure size 1800x1200 with 1 Axes>"
      ]
     },
     "metadata": {
      "needs_background": "light"
     },
     "output_type": "display_data"
    }
   ],
   "source": [
    "plt.figure(dpi=300)\n",
    "plt.boxplot(data[\"points\"],patch_artist=True,boxprops = {'color':'black','facecolor':'#9999ff'},\n",
    " \n",
    "            flierprops = {'marker':'o','markerfacecolor':'red','color':'black'},\n",
    " \n",
    "            meanprops = {'marker':'D','markerfacecolor':'indianred'},\n",
    "            medianprops = {'linestyle':'--','color':'orange'})"
   ]
  },
  {
   "cell_type": "markdown",
   "metadata": {},
   "source": [
    "#### Boxplot for attribute 'price'."
   ]
  },
  {
   "cell_type": "code",
   "execution_count": 11,
   "metadata": {
    "ExecuteTime": {
     "end_time": "2021-04-02T08:09:15.379007Z",
     "start_time": "2021-04-02T08:09:14.094471Z"
    }
   },
   "outputs": [
    {
     "data": {
      "text/plain": [
       "<matplotlib.axes._subplots.AxesSubplot at 0x7fb8bb8a9110>"
      ]
     },
     "execution_count": 11,
     "metadata": {},
     "output_type": "execute_result"
    },
    {
     "data": {
      "image/png": "[encoded data removed]",
      "text/plain": [
       "<Figure size 1800x1200 with 1 Axes>"
      ]
     },
     "metadata": {
      "needs_background": "light"
     },
     "output_type": "display_data"
    }
   ],
   "source": [
    "import seaborn as sns\n",
    "plt.figure(dpi=300)\n",
    "# sns.boxplot(data[\"price\"])\n",
    "data.boxplot(column=\"price\")"
   ]
  },
  {
   "cell_type": "code",
   "execution_count": 12,
   "metadata": {
    "ExecuteTime": {
     "end_time": "2021-04-02T08:09:16.749004Z",
     "start_time": "2021-04-02T08:09:16.602701Z"
    }
   },
   "outputs": [
    {
     "data": {
      "text/plain": [
       "country                      68\n",
       "description                   0\n",
       "designation               83200\n",
       "points                        0\n",
       "price                     22691\n",
       "province                     68\n",
       "region_1                  46307\n",
       "region_2                 169437\n",
       "taster_name              177174\n",
       "taster_twitter_handle    182143\n",
       "title                    150930\n",
       "variety                       1\n",
       "winery                        0\n",
       "dtype: int64"
      ]
     },
     "execution_count": 12,
     "metadata": {},
     "output_type": "execute_result"
    }
   ],
   "source": [
    "data.isnull().sum()"
   ]
  },
  {
   "cell_type": "markdown",
   "metadata": {},
   "source": [
    "#### At this part, I will use z-scores to detect extreme outliers which absolute value of z-scores are higher than 10.\n",
    "> Notably, everyone knows that wines could be extremely expensive. As a result, we shouldn't treat these samples as measuring errors."
   ]
  },
  {
   "cell_type": "code",
   "execution_count": 13,
   "metadata": {
    "ExecuteTime": {
     "end_time": "2021-04-02T08:09:21.497092Z",
     "start_time": "2021-04-02T08:09:21.467825Z"
    }
   },
   "outputs": [
    {
     "data": {
      "text/html": [
       "<div>\n",
       "<style scoped>\n",
       "    .dataframe tbody tr th:only-of-type {\n",
       "        vertical-align: middle;\n",
       "    }\n",
       "\n",
       "    .dataframe tbody tr th {\n",
       "        vertical-align: top;\n",
       "    }\n",
       "\n",
       "    .dataframe thead th {\n",
       "        text-align: right;\n",
       "    }\n",
       "</style>\n",
       "<table border=\"1\" class=\"dataframe\">\n",
       "  <thead>\n",
       "    <tr style=\"text-align: right;\">\n",
       "      <th></th>\n",
       "      <th>price</th>\n",
       "    </tr>\n",
       "  </thead>\n",
       "  <tbody>\n",
       "  </tbody>\n",
       "</table>\n",
       "</div>"
      ],
      "text/plain": [
       "Empty DataFrame\n",
       "Columns: [price]\n",
       "Index: []"
      ]
     },
     "execution_count": 13,
     "metadata": {},
     "output_type": "execute_result"
    }
   ],
   "source": [
    "from scipy import stats\n",
    "df_price = pd.DataFrame(data[\"price\"])\n",
    "price_zscore = df_price.apply(stats.zscore)\n",
    "outlier_mask = ((price_zscore > 10).any(axis=1)).values + ((price_zscore < -10).any(axis=1)).values\n",
    "df_price.loc[outlier_mask, :]"
   ]
  },
  {
   "cell_type": "markdown",
   "metadata": {},
   "source": [
    "### Handle null values"
   ]
  },
  {
   "cell_type": "code",
   "execution_count": 14,
   "metadata": {
    "ExecuteTime": {
     "end_time": "2021-04-02T08:09:36.209111Z",
     "start_time": "2021-04-02T08:09:36.202159Z"
    }
   },
   "outputs": [],
   "source": [
    "def nullplot(data):\n",
    "    '''\n",
    "    data: a dataframe on which we want to perform null plot\n",
    "    '''\n",
    "    df_null = data.isna()\n",
    "    nulls_percent_per_col = df_null.sum(axis=0) / len(data)\n",
    "    \n",
    "    plt.figure(dpi=600)\n",
    "    fig, (ax_1, ax_2) = plt.subplots(nrows=2, ncols=1, sharex=True, figsize=(8, 10))\n",
    "    \n",
    "    pla = matplotlib.cm.get_cmap(\"plasma\")\n",
    "    colormap = matplotlib.colors.ListedColormap([pla(0), 'gold'])\n",
    "    sns.heatmap(data.isnull(), cmap=colormap, ax=ax_1, cbar=False, yticklabels=False)\n",
    "    nulls_percent_per_col.plot(kind=\"bar\", color=\"gold\", x=nulls_percent_per_col, y=nulls_percent_per_col.index, \n",
    "                               ax=ax_2, label=\"Null value percent\")\n",
    "    ax_2.set_ylim((0,1))\n",
    "    plt.show()"
   ]
  },
  {
   "cell_type": "markdown",
   "metadata": {},
   "source": [
    "#### The drawing below presents the null value in each attribute."
   ]
  },
  {
   "cell_type": "code",
   "execution_count": 15,
   "metadata": {
    "ExecuteTime": {
     "end_time": "2021-04-02T08:09:42.270325Z",
     "start_time": "2021-04-02T08:09:38.945383Z"
    }
   },
   "outputs": [
    {
     "data": {
      "text/plain": [
       "<Figure size 3600x2400 with 0 Axes>"
      ]
     },
     "metadata": {},
     "output_type": "display_data"
    },
    {
     "data": {
      "image/png": "[encoded data removed]",
      "text/plain": [
       "<Figure size 576x720 with 2 Axes>"
      ]
     },
     "metadata": {
      "needs_background": "light"
     },
     "output_type": "display_data"
    }
   ],
   "source": [
    "nullplot(data)"
   ]
  },
  {
   "cell_type": "markdown",
   "metadata": {},
   "source": [
    "#### Eliminate null values --- drop rows\n",
    "\n",
    "I will drop all rows containing \"too much\" null values."
   ]
  },
  {
   "cell_type": "code",
   "execution_count": 16,
   "metadata": {
    "ExecuteTime": {
     "end_time": "2021-04-02T08:09:50.942893Z",
     "start_time": "2021-04-02T08:09:48.517761Z"
    }
   },
   "outputs": [
    {
     "data": {
      "text/plain": [
       "<Figure size 3600x2400 with 0 Axes>"
      ]
     },
     "metadata": {},
     "output_type": "display_data"
    },
    {
     "data": {
      "image/png": "[encoded data removed]",
      "text/plain": [
       "<Figure size 576x720 with 2 Axes>"
      ]
     },
     "metadata": {
      "needs_background": "light"
     },
     "output_type": "display_data"
    }
   ],
   "source": [
    "data_4 = data.copy()\n",
    "data_4 = data_4.dropna(axis=0, thresh=10)\n",
    "nullplot(data_4)"
   ]
  },
  {
   "cell_type": "markdown",
   "metadata": {},
   "source": [
    "#### Replace null values with most common value of the column."
   ]
  },
  {
   "cell_type": "code",
   "execution_count": 17,
   "metadata": {
    "ExecuteTime": {
     "end_time": "2021-04-02T08:09:57.721761Z",
     "start_time": "2021-04-02T08:09:53.048649Z"
    },
    "scrolled": false
   },
   "outputs": [
    {
     "name": "stdout",
     "output_type": "stream",
     "text": [
      "Most common value of each column:\n",
      " country                                                                 US\n",
      "description              A little bit funky and unsettled when you pop ...\n",
      "designation                                                        Reserve\n",
      "points                                                                  87\n",
      "price                                                                   20\n",
      "province                                                        California\n",
      "region_1                                                       Napa Valley\n",
      "region_2                                                     Central Coast\n",
      "taster_name                                                     Roger Voss\n",
      "taster_twitter_handle                                           @vossroger\n",
      "title                    Gloria Ferrer NV Sonoma Brut Sparkling (Sonoma...\n",
      "variety                                                         Pinot Noir\n",
      "winery                                                     Williams Selyem\n",
      "dtype: object\n"
     ]
    },
    {
     "data": {
      "text/plain": [
       "<Figure size 3600x2400 with 0 Axes>"
      ]
     },
     "metadata": {},
     "output_type": "display_data"
    },
    {
     "data": {
      "image/png": "[encoded data removed]",
      "text/plain": [
       "<Figure size 576x720 with 2 Axes>"
      ]
     },
     "metadata": {
      "needs_background": "light"
     },
     "output_type": "display_data"
    }
   ],
   "source": [
    "data_5 = data.copy()\n",
    "def find_nost_common_value(series):\n",
    "    '''\n",
    "    To find the most common value of the column\n",
    "    '''\n",
    "    return series.value_counts().index[0]\n",
    "most_common_value = data_5.apply(find_nost_common_value, axis=0)\n",
    "print(\"Most common value of each column:\\n\", most_common_value)\n",
    "data_5[data_5.columns.values] = data_5[data_5.columns.values].fillna(most_common_value)\n",
    "nullplot(data_5)"
   ]
  },
  {
   "cell_type": "markdown",
   "metadata": {},
   "source": [
    "#### The missing values are filled by the correlation of attributes.\n",
    "Intuitively, 'taster_name' and 'taster-twitter-handle' have some implicit correlation. One taster may have several twitter IDs but these twitter IDs correspond to one single person. So it is significant to merge these two columns into one."
   ]
  },
  {
   "cell_type": "code",
   "execution_count": 18,
   "metadata": {
    "ExecuteTime": {
     "end_time": "2021-04-02T08:09:57.836846Z",
     "start_time": "2021-04-02T08:09:57.723349Z"
    }
   },
   "outputs": [
    {
     "name": "stdout",
     "output_type": "stream",
     "text": [
      "rows containing a name but no twitter handle: 4969\n",
      "rows containing a twitter handle but no taster name: 0\n"
     ]
    }
   ],
   "source": [
    "data_6 = data.copy()\n",
    "only_name = data_6.loc[data_6['taster_twitter_handle'].isnull() & data_6['taster_name'].notna(), \n",
    "                   ['taster_name', 'taster_twitter_handle']]\n",
    "num_only_name = len(only_name.index)\n",
    "\n",
    "only_twitter = data_6.loc[data_6['taster_name'].isnull() & data_6['taster_twitter_handle'].notna(), \n",
    "                      ['taster_name', 'taster_twitter_handle']]\n",
    "num_only_twitter = len(only_twitter.index)\n",
    "\n",
    "print(f'rows containing a name but no twitter handle: {num_only_name}'\n",
    "      + f'\\nrows containing a twitter handle but no taster name: {num_only_twitter}')"
   ]
  },
  {
   "cell_type": "markdown",
   "metadata": {},
   "source": [
    "#### So, we can simply drop the column 'taster_twitter_handle' as it doesn't provide any further information."
   ]
  },
  {
   "cell_type": "code",
   "execution_count": 19,
   "metadata": {
    "ExecuteTime": {
     "end_time": "2021-04-02T08:10:04.756965Z",
     "start_time": "2021-04-02T08:10:01.494859Z"
    }
   },
   "outputs": [
    {
     "data": {
      "text/plain": [
       "<Figure size 3600x2400 with 0 Axes>"
      ]
     },
     "metadata": {},
     "output_type": "display_data"
    },
    {
     "data": {
      "image/png": "[encoded data removed]",
      "text/plain": [
       "<Figure size 576x720 with 2 Axes>"
      ]
     },
     "metadata": {
      "needs_background": "light"
     },
     "output_type": "display_data"
    }
   ],
   "source": [
    "data_6 = data_6.drop(\"taster_twitter_handle\", axis=1)\n",
    "data_6['taster_name'] = data_6['taster_name'].fillna('Unknown')\n",
    "nullplot(data_6)"
   ]
  },
  {
   "cell_type": "markdown",
   "metadata": {},
   "source": [
    "#### The missing values are filled by the similarity between data objects.\n",
    "I will use attributes 'country','points','province','winery' to predict price."
   ]
  },
  {
   "cell_type": "code",
   "execution_count": 20,
   "metadata": {
    "ExecuteTime": {
     "end_time": "2021-04-02T08:10:08.055944Z",
     "start_time": "2021-04-02T08:10:07.917436Z"
    }
   },
   "outputs": [
    {
     "data": {
      "text/html": [
       "<div>\n",
       "<style scoped>\n",
       "    .dataframe tbody tr th:only-of-type {\n",
       "        vertical-align: middle;\n",
       "    }\n",
       "\n",
       "    .dataframe tbody tr th {\n",
       "        vertical-align: top;\n",
       "    }\n",
       "\n",
       "    .dataframe thead th {\n",
       "        text-align: right;\n",
       "    }\n",
       "</style>\n",
       "<table border=\"1\" class=\"dataframe\">\n",
       "  <thead>\n",
       "    <tr style=\"text-align: right;\">\n",
       "      <th></th>\n",
       "      <th>country</th>\n",
       "      <th>points</th>\n",
       "      <th>province</th>\n",
       "      <th>winery</th>\n",
       "      <th>price</th>\n",
       "    </tr>\n",
       "  </thead>\n",
       "  <tbody>\n",
       "    <tr>\n",
       "      <td>0</td>\n",
       "      <td>Italy</td>\n",
       "      <td>87</td>\n",
       "      <td>Sicily &amp; Sardinia</td>\n",
       "      <td>Nicosia</td>\n",
       "      <td>NaN</td>\n",
       "    </tr>\n",
       "    <tr>\n",
       "      <td>1</td>\n",
       "      <td>Portugal</td>\n",
       "      <td>87</td>\n",
       "      <td>Douro</td>\n",
       "      <td>Quinta dos Avidagos</td>\n",
       "      <td>15.0</td>\n",
       "    </tr>\n",
       "    <tr>\n",
       "      <td>2</td>\n",
       "      <td>US</td>\n",
       "      <td>87</td>\n",
       "      <td>Oregon</td>\n",
       "      <td>Rainstorm</td>\n",
       "      <td>14.0</td>\n",
       "    </tr>\n",
       "    <tr>\n",
       "      <td>3</td>\n",
       "      <td>US</td>\n",
       "      <td>87</td>\n",
       "      <td>Michigan</td>\n",
       "      <td>St. Julian</td>\n",
       "      <td>13.0</td>\n",
       "    </tr>\n",
       "    <tr>\n",
       "      <td>4</td>\n",
       "      <td>US</td>\n",
       "      <td>87</td>\n",
       "      <td>Oregon</td>\n",
       "      <td>Sweet Cheeks</td>\n",
       "      <td>65.0</td>\n",
       "    </tr>\n",
       "  </tbody>\n",
       "</table>\n",
       "</div>"
      ],
      "text/plain": [
       "    country  points           province               winery  price\n",
       "0     Italy      87  Sicily & Sardinia              Nicosia    NaN\n",
       "1  Portugal      87              Douro  Quinta dos Avidagos   15.0\n",
       "2        US      87             Oregon            Rainstorm   14.0\n",
       "3        US      87           Michigan           St. Julian   13.0\n",
       "4        US      87             Oregon         Sweet Cheeks   65.0"
      ]
     },
     "execution_count": 20,
     "metadata": {},
     "output_type": "execute_result"
    }
   ],
   "source": [
    "data_7 = data.copy()\n",
    "data_feature = data_7[['country', 'points', 'province', 'winery', 'price']]\n",
    "data_feature = data_feature.loc[data_feature['country'].notnull(), :]\n",
    "data_feature = data_feature.loc[data_feature['province'].notnull(), :]\n",
    "data_feature.head(5)"
   ]
  },
  {
   "cell_type": "markdown",
   "metadata": {},
   "source": [
    "#### Encode nominal attributes and normalization"
   ]
  },
  {
   "cell_type": "code",
   "execution_count": 21,
   "metadata": {
    "ExecuteTime": {
     "end_time": "2021-04-02T08:10:10.630186Z",
     "start_time": "2021-04-02T08:10:09.808936Z"
    }
   },
   "outputs": [
    {
     "name": "stdout",
     "output_type": "stream",
     "text": [
      "After encode:\n",
      "    country  points  province  winery  price\n",
      "0       23      87       377   13219    NaN\n",
      "1       35      87       116   14763   15.0\n",
      "2       46      87       305   14836   14.0\n",
      "3       46      87       245   16411   13.0\n",
      "4       46      87       305   16669   65.0\n",
      "After normalization:\n",
      "     country  points  province    winery  price\n",
      "0  0.469388    0.35  0.770961  0.689423    NaN\n",
      "1  0.714286    0.35  0.237219  0.769949   15.0\n",
      "2  0.938776    0.35  0.623722  0.773756   14.0\n",
      "3  0.938776    0.35  0.501022  0.855899   13.0\n",
      "4  0.938776    0.35  0.623722  0.869354   65.0\n"
     ]
    }
   ],
   "source": [
    "from sklearn.preprocessing import LabelEncoder\n",
    "le = LabelEncoder()\n",
    "data_feature['country'] = le.fit_transform(data_feature['country'])\n",
    "data_feature['province'] = le.fit_transform(data_feature['province'])\n",
    "data_feature['winery'] = le.fit_transform(data_feature['winery'])\n",
    "print(\"After encode:\\n\", data_feature.head(5))\n",
    "\n",
    "data_feature[['country', 'points', 'province', 'winery']] = data_feature[['country', 'points', 'province', 'winery']].apply(lambda x: (x - x.min()) / (x.max() - x.min()))\n",
    "print(\"After normalization:\\n\", data_feature.head(5))"
   ]
  },
  {
   "cell_type": "markdown",
   "metadata": {},
   "source": [
    "#### Split training set and prediction set"
   ]
  },
  {
   "cell_type": "code",
   "execution_count": 22,
   "metadata": {
    "ExecuteTime": {
     "end_time": "2021-04-02T08:10:13.238302Z",
     "start_time": "2021-04-02T08:10:13.205614Z"
    }
   },
   "outputs": [],
   "source": [
    "data_price_known = data_feature.loc[data_feature['price'].notnull(), :]\n",
    "data_price_unknown = data_feature.loc[data_feature['price'].isnull(), :]\n",
    "\n",
    "X_train = data_price_known.drop('price', axis=1)\n",
    "y_train = data_price_known['price']\n",
    "\n",
    "X_pred = data_price_unknown.drop('price', axis=1)\n"
   ]
  },
  {
   "cell_type": "markdown",
   "metadata": {},
   "source": [
    "#### Train model and predict"
   ]
  },
  {
   "cell_type": "code",
   "execution_count": 23,
   "metadata": {
    "ExecuteTime": {
     "end_time": "2021-04-02T08:18:08.810819Z",
     "start_time": "2021-04-02T08:10:15.182390Z"
    }
   },
   "outputs": [],
   "source": [
    "from sklearn.linear_model import LogisticRegression\n",
    "lr = LogisticRegression()\n",
    "lr.fit(X=X_train, y=y_train)\n",
    "X_pred['price'] = lr.predict(X_pred)\n",
    "data_all = pd.concat([data_price_known,  X_pred], axis=0, ignore_index=True)"
   ]
  },
  {
   "cell_type": "code",
   "execution_count": 24,
   "metadata": {
    "ExecuteTime": {
     "end_time": "2021-04-02T08:18:10.208936Z",
     "start_time": "2021-04-02T08:18:08.812521Z"
    }
   },
   "outputs": [
    {
     "data": {
      "text/plain": [
       "<Figure size 3600x2400 with 0 Axes>"
      ]
     },
     "metadata": {},
     "output_type": "display_data"
    },
    {
     "data": {
      "image/png": "[encoded data removed]",
      "text/plain": [
       "<Figure size 576x720 with 2 Axes>"
      ]
     },
     "metadata": {
      "needs_background": "light"
     },
     "output_type": "display_data"
    }
   ],
   "source": [
    "nullplot(data_all)"
   ]
  },
  {
   "cell_type": "code",
   "execution_count": 25,
   "metadata": {
    "ExecuteTime": {
     "end_time": "2021-04-02T08:18:11.935222Z",
     "start_time": "2021-04-02T08:18:11.925853Z"
    }
   },
   "outputs": [
    {
     "data": {
      "text/html": [
       "<div>\n",
       "<style scoped>\n",
       "    .dataframe tbody tr th:only-of-type {\n",
       "        vertical-align: middle;\n",
       "    }\n",
       "\n",
       "    .dataframe tbody tr th {\n",
       "        vertical-align: top;\n",
       "    }\n",
       "\n",
       "    .dataframe thead th {\n",
       "        text-align: right;\n",
       "    }\n",
       "</style>\n",
       "<table border=\"1\" class=\"dataframe\">\n",
       "  <thead>\n",
       "    <tr style=\"text-align: right;\">\n",
       "      <th></th>\n",
       "      <th>country</th>\n",
       "      <th>points</th>\n",
       "      <th>province</th>\n",
       "      <th>winery</th>\n",
       "      <th>price</th>\n",
       "    </tr>\n",
       "  </thead>\n",
       "  <tbody>\n",
       "    <tr>\n",
       "      <td>0</td>\n",
       "      <td>0.714286</td>\n",
       "      <td>0.35</td>\n",
       "      <td>0.237219</td>\n",
       "      <td>0.769949</td>\n",
       "      <td>15.0</td>\n",
       "    </tr>\n",
       "    <tr>\n",
       "      <td>1</td>\n",
       "      <td>0.938776</td>\n",
       "      <td>0.35</td>\n",
       "      <td>0.623722</td>\n",
       "      <td>0.773756</td>\n",
       "      <td>14.0</td>\n",
       "    </tr>\n",
       "    <tr>\n",
       "      <td>2</td>\n",
       "      <td>0.938776</td>\n",
       "      <td>0.35</td>\n",
       "      <td>0.501022</td>\n",
       "      <td>0.855899</td>\n",
       "      <td>13.0</td>\n",
       "    </tr>\n",
       "    <tr>\n",
       "      <td>3</td>\n",
       "      <td>0.938776</td>\n",
       "      <td>0.35</td>\n",
       "      <td>0.623722</td>\n",
       "      <td>0.869354</td>\n",
       "      <td>65.0</td>\n",
       "    </tr>\n",
       "    <tr>\n",
       "      <td>4</td>\n",
       "      <td>0.857143</td>\n",
       "      <td>0.35</td>\n",
       "      <td>0.605317</td>\n",
       "      <td>0.874152</td>\n",
       "      <td>15.0</td>\n",
       "    </tr>\n",
       "    <tr>\n",
       "      <td>5</td>\n",
       "      <td>0.469388</td>\n",
       "      <td>0.35</td>\n",
       "      <td>0.770961</td>\n",
       "      <td>0.892563</td>\n",
       "      <td>16.0</td>\n",
       "    </tr>\n",
       "    <tr>\n",
       "      <td>6</td>\n",
       "      <td>0.326531</td>\n",
       "      <td>0.35</td>\n",
       "      <td>0.024540</td>\n",
       "      <td>0.916814</td>\n",
       "      <td>24.0</td>\n",
       "    </tr>\n",
       "    <tr>\n",
       "      <td>7</td>\n",
       "      <td>0.367347</td>\n",
       "      <td>0.35</td>\n",
       "      <td>0.717791</td>\n",
       "      <td>0.501200</td>\n",
       "      <td>12.0</td>\n",
       "    </tr>\n",
       "    <tr>\n",
       "      <td>8</td>\n",
       "      <td>0.326531</td>\n",
       "      <td>0.35</td>\n",
       "      <td>0.024540</td>\n",
       "      <td>0.535673</td>\n",
       "      <td>27.0</td>\n",
       "    </tr>\n",
       "    <tr>\n",
       "      <td>9</td>\n",
       "      <td>0.938776</td>\n",
       "      <td>0.35</td>\n",
       "      <td>0.108384</td>\n",
       "      <td>0.554605</td>\n",
       "      <td>19.0</td>\n",
       "    </tr>\n",
       "  </tbody>\n",
       "</table>\n",
       "</div>"
      ],
      "text/plain": [
       "    country  points  province    winery  price\n",
       "0  0.714286    0.35  0.237219  0.769949   15.0\n",
       "1  0.938776    0.35  0.623722  0.773756   14.0\n",
       "2  0.938776    0.35  0.501022  0.855899   13.0\n",
       "3  0.938776    0.35  0.623722  0.869354   65.0\n",
       "4  0.857143    0.35  0.605317  0.874152   15.0\n",
       "5  0.469388    0.35  0.770961  0.892563   16.0\n",
       "6  0.326531    0.35  0.024540  0.916814   24.0\n",
       "7  0.367347    0.35  0.717791  0.501200   12.0\n",
       "8  0.326531    0.35  0.024540  0.535673   27.0\n",
       "9  0.938776    0.35  0.108384  0.554605   19.0"
      ]
     },
     "execution_count": 25,
     "metadata": {},
     "output_type": "execute_result"
    }
   ],
   "source": [
    "data_all.head(10)"
   ]
  }
 ],
 "metadata": {
  "kernelspec": {
   "display_name": "Python [conda env:root] *",
   "language": "python",
   "name": "conda-root-py"
  },
  "language_info": {
   "codemirror_mode": {
    "name": "ipython",
    "version": 3
   },
   "file_extension": ".py",
   "mimetype": "text/x-python",
   "name": "python",
   "nbconvert_exporter": "python",
   "pygments_lexer": "ipython3",
   "version": "3.7.4"
  }
 },
 "nbformat": 4,
 "nbformat_minor": 2
}
